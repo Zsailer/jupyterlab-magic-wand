{
 "cells": [
  {
   "cell_type": "code",
   "execution_count": 1,
   "id": "64562d51-448a-472f-9c01-b53187a4e1c0",
   "metadata": {
    "execution": {
     "iopub.execute_input": "2024-11-13T16:27:23.827796Z",
     "iopub.status.busy": "2024-11-13T16:27:23.827086Z",
     "iopub.status.idle": "2024-11-13T16:27:23.838436Z",
     "shell.execute_reply": "2024-11-13T16:27:23.837503Z",
     "shell.execute_reply.started": "2024-11-13T16:27:23.827746Z"
    },
    "jupyter_ai": {
     "agent": "Magic Button Agent",
     "messages": [
      "# Addition of two numbers\nresult = 2 + 2\nprint(result)"
     ]
    }
   },
   "outputs": [
    {
     "data": {
      "text/plain": [
       "4"
      ]
     },
     "execution_count": 1,
     "metadata": {},
     "output_type": "execute_result"
    }
   ],
   "source": [
    "# Addition of two numbers\n",
    "result = 2 + 2\n",
    "print(result)"
   ]
  },
  {
   "cell_type": "code",
   "execution_count": null,
   "id": "88dc0cc9-ea99-4cf2-bf53-c979c4e65396",
   "metadata": {},
   "outputs": [],
   "source": []
  }
 ],
 "metadata": {
  "kernelspec": {
   "display_name": "Python 3 (ipykernel)",
   "language": "python",
   "name": "python3"
  },
  "language_info": {
   "codemirror_mode": {
    "name": "ipython",
    "version": 3
   },
   "file_extension": ".py",
   "mimetype": "text/x-python",
   "name": "python",
   "nbconvert_exporter": "python",
   "pygments_lexer": "ipython3",
   "version": "3.12.7"
  }
 },
 "nbformat": 4,
 "nbformat_minor": 5
}
